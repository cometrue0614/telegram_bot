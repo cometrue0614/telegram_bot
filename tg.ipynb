{
 "cells": [
  {
   "cell_type": "code",
   "execution_count": 1,
   "source": [
    "import telegram\r\n",
    "from telegram.ext import Updater\r\n",
    "TOKEN = '1875534501:AAHbSSmQLSWGHIpIeUcb1brl1UTxjy_IM8M'\r\n",
    "# updater = Updater(token = TOKEN, use_context = True)\r\n",
    "bot = telegram.Bot(token=TOKEN)\r\n",
    "# print(bot.get_me())\r\n",
    "# URL = \"https://telegramtab.hopto.org/\"\r\n",
    "# updater.bot.setWebhook(URL + TOKEN)\r\n"
   ],
   "outputs": [],
   "metadata": {}
  },
  {
   "cell_type": "code",
   "execution_count": 2,
   "source": [
    "updates = bot.get_updates()\r\n",
    "print(updates[0])\r\n",
    "# len(updates)-1\r\n",
    "# bot.getWebhookInfo()"
   ],
   "outputs": [
    {
     "output_type": "error",
     "ename": "IndexError",
     "evalue": "list index out of range",
     "traceback": [
      "\u001b[1;31m---------------------------------------------------------------------------\u001b[0m",
      "\u001b[1;31mIndexError\u001b[0m                                Traceback (most recent call last)",
      "\u001b[1;32mC:\\Users\\TIM~1.YAN\\AppData\\Local\\Temp/ipykernel_3056/4131822739.py\u001b[0m in \u001b[0;36m<module>\u001b[1;34m\u001b[0m\n\u001b[0;32m      1\u001b[0m \u001b[0mupdates\u001b[0m \u001b[1;33m=\u001b[0m \u001b[0mbot\u001b[0m\u001b[1;33m.\u001b[0m\u001b[0mget_updates\u001b[0m\u001b[1;33m(\u001b[0m\u001b[1;33m)\u001b[0m\u001b[1;33m\u001b[0m\u001b[1;33m\u001b[0m\u001b[0m\n\u001b[1;32m----> 2\u001b[1;33m \u001b[0mprint\u001b[0m\u001b[1;33m(\u001b[0m\u001b[0mupdates\u001b[0m\u001b[1;33m[\u001b[0m\u001b[1;36m0\u001b[0m\u001b[1;33m]\u001b[0m\u001b[1;33m)\u001b[0m\u001b[1;33m\u001b[0m\u001b[1;33m\u001b[0m\u001b[0m\n\u001b[0m\u001b[0;32m      3\u001b[0m \u001b[1;31m# len(updates)-1\u001b[0m\u001b[1;33m\u001b[0m\u001b[1;33m\u001b[0m\u001b[1;33m\u001b[0m\u001b[0m\n\u001b[0;32m      4\u001b[0m \u001b[1;31m# bot.getWebhookInfo()\u001b[0m\u001b[1;33m\u001b[0m\u001b[1;33m\u001b[0m\u001b[1;33m\u001b[0m\u001b[0m\n",
      "\u001b[1;31mIndexError\u001b[0m: list index out of range"
     ]
    }
   ],
   "metadata": {}
  },
  {
   "cell_type": "code",
   "execution_count": null,
   "source": [
    "bot.send_video(chat_id=-467627368, video=\"BAACAgUAAxkBAAIBPWD5JwfI2aoIA10Pg5wlvi6HvPuQAAJTAQACwglYVuflk3qgUa0SIAQ\",\r\n",
    "                        filename=\"watermark\",\r\n",
    "                        supports_streaming=True,\r\n",
    "                        caption=\"🙈 <a href='https://youtube.com/'>Link1</a>\\n\" +\r\n",
    "                        \"🙉 <a href='https://youtube.com/'>Link2</a>\\n\" +\r\n",
    "                        \"🙊 <a href='https://youtube.com/'>Link3</a>\\n\",\r\n",
    "                        parse_mode='HTML',\r\n",
    "                        reply_markup=InlineKeyboardMarkup([[\r\n",
    "                            InlineKeyboardButton(\r\n",
    "                                    text='👍🏻', callback_data=\"0\"),\r\n",
    "                            InlineKeyboardButton(\r\n",
    "                                text='還想看', callback_data=\"1\"),\r\n",
    "                            InlineKeyboardButton(\r\n",
    "                                text='👎🏻', callback_data=\"2\")\r\n",
    "                        ],\r\n",
    "                            [\r\n",
    "                            InlineKeyboardButton(\r\n",
    "                                text='❤️', url='https://youtube.com/')\r\n",
    "                        ],\r\n",
    "                            [\r\n",
    "                            InlineKeyboardButton(\r\n",
    "                                text='😍', url='https://youtube.com/')\r\n",
    "                        ],\r\n",
    "                            [\r\n",
    "                            InlineKeyboardButton(\r\n",
    "                                text='💋', url='https://youtube.com/')\r\n",
    "                        ]]\r\n",
    "    ))\r\n"
   ],
   "outputs": [],
   "metadata": {}
  },
  {
   "cell_type": "code",
   "execution_count": 3,
   "source": [
    "# URL = \"https://34.121.52.40/\"\r\n",
    "# updater.bot.setWebhook(URL + TOKEN)\r\n",
    "# updater.idle()"
   ],
   "outputs": [],
   "metadata": {}
  },
  {
   "cell_type": "code",
   "execution_count": 4,
   "source": [
    "from telegram.ext import Updater\r\n",
    "updater = Updater(token=TOKEN, use_context=True, request_kwargs={'read_timeout': 6000, 'connect_timeout': 7000})\r\n",
    "dispatcher = updater.dispatcher"
   ],
   "outputs": [],
   "metadata": {}
  },
  {
   "cell_type": "code",
   "execution_count": 5,
   "source": [
    "import logging\r\n",
    "logging.basicConfig(format='%(asctime)s - %(name)s - %(levelname)s - %(message)s',\r\n",
    "                     level=logging.INFO)"
   ],
   "outputs": [],
   "metadata": {}
  },
  {
   "cell_type": "code",
   "execution_count": 6,
   "source": [
    "from telegram.ext import Updater, CommandHandler\r\n",
    "from telegram import InlineKeyboardMarkup, InlineKeyboardButton\r\n",
    "\r\n",
    "def start(update, context):\r\n",
    "    context.bot.send_message(update.message.chat_id, text = \"Hi, I'm Pytab. What thing can I assist?\",\r\n",
    "        reply_markup = InlineKeyboardMarkup([[\r\n",
    "            InlineKeyboardButton('github', url = 'https://github.com/'),\r\n",
    "            InlineKeyboardButton('youtube', url = 'https://www.youtube.com/')\r\n",
    "            ]]\r\n",
    "        )\r\n",
    "    )"
   ],
   "outputs": [],
   "metadata": {}
  },
  {
   "cell_type": "code",
   "execution_count": 7,
   "source": [
    "from telegram.ext import CommandHandler\r\n",
    "start_handler = CommandHandler('start', start)\r\n",
    "dispatcher.add_handler(start_handler)"
   ],
   "outputs": [],
   "metadata": {}
  },
  {
   "cell_type": "code",
   "execution_count": 8,
   "source": [
    "updater.start_polling()"
   ],
   "outputs": [
    {
     "output_type": "stream",
     "name": "stderr",
     "text": [
      "2021-07-20 17:00:56,705 - apscheduler.scheduler - INFO - Scheduler started\n"
     ]
    },
    {
     "output_type": "execute_result",
     "data": {
      "text/plain": [
       "<queue.Queue at 0x24c7c6a3a60>"
      ]
     },
     "metadata": {},
     "execution_count": 8
    }
   ],
   "metadata": {}
  },
  {
   "cell_type": "code",
   "execution_count": 9,
   "source": [
    "# def echo(update, context):\r\n",
    "#     if(update.message.text):\r\n",
    "#         context.bot.send_message(chat_id=update.effective_chat.id, text=update.message.text)\r\n",
    "\r\n",
    "# from telegram.ext import MessageHandler, Filters\r\n",
    "# echo_handler = MessageHandler(Filters.text & (~Filters.command), echo)\r\n",
    "# dispatcher.add_handler(echo_handler)\r\n",
    "\r\n",
    "# def caps(update, context):\r\n",
    "#     text_caps = ' '.join(context.args).upper()\r\n",
    "#     context.bot.send_message(chat_id=update.effective_chat.id, text=text_caps)\r\n",
    "\r\n",
    "# caps_handler = CommandHandler('caps', caps)\r\n",
    "# dispatcher.add_handler(caps_handler)"
   ],
   "outputs": [],
   "metadata": {}
  },
  {
   "cell_type": "code",
   "execution_count": 10,
   "source": [
    "import time\r\n",
    "def get_video(update, context):\r\n",
    "    context.bot.send_video(chat_id=update.message.chat_id, video=open('24frames.mp4', 'rb'),\r\n",
    "                        filename=\"watermark\",\r\n",
    "                        supports_streaming=True,\r\n",
    "                        caption=\"🙈 <a href='https://youtube.com/'>Link1</a>\\n\" +\r\n",
    "                        \"🙉 <a href='https://youtube.com/'>Link2</a>\\n\" +\r\n",
    "                        \"🙊 <a href='https://youtube.com/'>Link3</a>\\n\",\r\n",
    "                        parse_mode='HTML',\r\n",
    "                        reply_markup=InlineKeyboardMarkup([[\r\n",
    "                            InlineKeyboardButton(\r\n",
    "                                    text='👍🏻', callback_data=\"0\"),\r\n",
    "                            InlineKeyboardButton(\r\n",
    "                                text='還想看', callback_data=\"1\"),\r\n",
    "                            InlineKeyboardButton(\r\n",
    "                                text='👎🏻', callback_data=\"2\")\r\n",
    "                        ],\r\n",
    "                            [\r\n",
    "                            InlineKeyboardButton(\r\n",
    "                                text='❤️', url='https://youtube.com/')\r\n",
    "                        ],\r\n",
    "                            [\r\n",
    "                            InlineKeyboardButton(\r\n",
    "                                text='😍', url='https://youtube.com/')\r\n",
    "                        ],\r\n",
    "                            [\r\n",
    "                            InlineKeyboardButton(\r\n",
    "                                text='💋', url='https://youtube.com/')\r\n",
    "                        ]]\r\n",
    "    ))\r\n",
    "\r\n",
    "\r\n",
    "get_video_handler = CommandHandler('get_video', get_video)\r\n",
    "dispatcher.add_handler(get_video_handler)\r\n"
   ],
   "outputs": [],
   "metadata": {}
  },
  {
   "cell_type": "code",
   "execution_count": 11,
   "source": [
    "from telegram import InlineQueryResultArticle, InputTextMessageContent\r\n",
    "def inline_caps(update, context):\r\n",
    "    query = update.inline_query.query\r\n",
    "    if not query:\r\n",
    "        return\r\n",
    "    results = list()\r\n",
    "    results.append(\r\n",
    "        InlineQueryResultArticle(\r\n",
    "            id=query.upper(),\r\n",
    "            title='Caps',\r\n",
    "            input_message_content=InputTextMessageContent(query.upper())\r\n",
    "        )\r\n",
    "    )\r\n",
    "    context.bot.answer_inline_query(update.inline_query.id, results)\r\n",
    "\r\n",
    "from telegram.ext import InlineQueryHandler\r\n",
    "inline_caps_handler = InlineQueryHandler(inline_caps)\r\n",
    "dispatcher.add_handler(inline_caps_handler)"
   ],
   "outputs": [],
   "metadata": {}
  },
  {
   "cell_type": "code",
   "execution_count": 12,
   "source": [
    "def unknown(update, context):\r\n",
    "    context.bot.send_message(chat_id=update.effective_chat.id, text=\"Sorry, I didn't understand that command.\")\r\n",
    "\r\n",
    "from telegram.ext import MessageHandler, Filters\r\n",
    "unknown_handler = MessageHandler(Filters.command, unknown)\r\n",
    "dispatcher.add_handler(unknown_handler) "
   ],
   "outputs": [],
   "metadata": {}
  },
  {
   "cell_type": "code",
   "execution_count": 13,
   "source": [
    "# updater.idle()\r\n",
    "# updater.stop()"
   ],
   "outputs": [
    {
     "output_type": "stream",
     "name": "stderr",
     "text": [
      "2021-07-20 17:01:26,256 - telegram.ext.dispatcher - ERROR - No error handlers are registered, logging exception.\n",
      "Traceback (most recent call last):\n",
      "  File \"C:\\Python39\\lib\\site-packages\\telegram\\vendor\\ptb_urllib3\\urllib3\\connectionpool.py\", line 614, in urlopen\n",
      "    httplib_response = self._make_request(conn, method, url,\n",
      "  File \"C:\\Python39\\lib\\site-packages\\telegram\\vendor\\ptb_urllib3\\urllib3\\connectionpool.py\", line 390, in _make_request\n",
      "    conn.request(method, url, **httplib_request_kw)\n",
      "  File \"C:\\Python39\\lib\\http\\client.py\", line 1257, in request\n",
      "    self._send_request(method, url, body, headers, encode_chunked)\n",
      "  File \"C:\\Python39\\lib\\http\\client.py\", line 1303, in _send_request\n",
      "    self.endheaders(body, encode_chunked=encode_chunked)\n",
      "  File \"C:\\Python39\\lib\\http\\client.py\", line 1252, in endheaders\n",
      "    self._send_output(message_body, encode_chunked=encode_chunked)\n",
      "  File \"C:\\Python39\\lib\\http\\client.py\", line 1051, in _send_output\n",
      "    self.send(chunk)\n",
      "  File \"C:\\Python39\\lib\\http\\client.py\", line 973, in send\n",
      "    self.sock.sendall(data)\n",
      "  File \"C:\\Python39\\lib\\ssl.py\", line 1204, in sendall\n",
      "    v = self.send(byte_view[count:])\n",
      "  File \"C:\\Python39\\lib\\ssl.py\", line 1173, in send\n",
      "    return self._sslobj.write(data)\n",
      "socket.timeout: The write operation timed out\n",
      "\n",
      "During handling of the above exception, another exception occurred:\n",
      "\n",
      "Traceback (most recent call last):\n",
      "  File \"C:\\Python39\\lib\\site-packages\\telegram\\utils\\request.py\", line 259, in _request_wrapper\n",
      "    resp = self._con_pool.request(*args, **kwargs)\n",
      "  File \"C:\\Python39\\lib\\site-packages\\telegram\\vendor\\ptb_urllib3\\urllib3\\request.py\", line 68, in request\n",
      "    return self.request_encode_body(method, url, fields=fields,\n",
      "  File \"C:\\Python39\\lib\\site-packages\\telegram\\vendor\\ptb_urllib3\\urllib3\\request.py\", line 148, in request_encode_body\n",
      "    return self.urlopen(method, url, **extra_kw)\n",
      "  File \"C:\\Python39\\lib\\site-packages\\telegram\\vendor\\ptb_urllib3\\urllib3\\poolmanager.py\", line 244, in urlopen\n",
      "    response = conn.urlopen(method, u.request_uri, **kw)\n",
      "  File \"C:\\Python39\\lib\\site-packages\\telegram\\vendor\\ptb_urllib3\\urllib3\\connectionpool.py\", line 665, in urlopen\n",
      "    retries = retries.increment(method, url, error=e, _pool=self,\n",
      "  File \"C:\\Python39\\lib\\site-packages\\telegram\\vendor\\ptb_urllib3\\urllib3\\util\\retry.py\", line 347, in increment\n",
      "    raise six.reraise(type(error), error, _stacktrace)\n",
      "  File \"C:\\Python39\\lib\\site-packages\\telegram\\vendor\\ptb_urllib3\\urllib3\\packages\\six.py\", line 685, in reraise\n",
      "    raise value.with_traceback(tb)\n",
      "  File \"C:\\Python39\\lib\\site-packages\\telegram\\vendor\\ptb_urllib3\\urllib3\\connectionpool.py\", line 614, in urlopen\n",
      "    httplib_response = self._make_request(conn, method, url,\n",
      "  File \"C:\\Python39\\lib\\site-packages\\telegram\\vendor\\ptb_urllib3\\urllib3\\connectionpool.py\", line 390, in _make_request\n",
      "    conn.request(method, url, **httplib_request_kw)\n",
      "  File \"C:\\Python39\\lib\\http\\client.py\", line 1257, in request\n",
      "    self._send_request(method, url, body, headers, encode_chunked)\n",
      "  File \"C:\\Python39\\lib\\http\\client.py\", line 1303, in _send_request\n",
      "    self.endheaders(body, encode_chunked=encode_chunked)\n",
      "  File \"C:\\Python39\\lib\\http\\client.py\", line 1252, in endheaders\n",
      "    self._send_output(message_body, encode_chunked=encode_chunked)\n",
      "  File \"C:\\Python39\\lib\\http\\client.py\", line 1051, in _send_output\n",
      "    self.send(chunk)\n",
      "  File \"C:\\Python39\\lib\\http\\client.py\", line 973, in send\n",
      "    self.sock.sendall(data)\n",
      "  File \"C:\\Python39\\lib\\ssl.py\", line 1204, in sendall\n",
      "    v = self.send(byte_view[count:])\n",
      "  File \"C:\\Python39\\lib\\ssl.py\", line 1173, in send\n",
      "    return self._sslobj.write(data)\n",
      "telegram.vendor.ptb_urllib3.urllib3.exceptions.ProtocolError: ('Connection aborted.', timeout('The write operation timed out'))\n",
      "\n",
      "The above exception was the direct cause of the following exception:\n",
      "\n",
      "Traceback (most recent call last):\n",
      "  File \"C:\\Python39\\lib\\site-packages\\telegram\\ext\\dispatcher.py\", line 555, in process_update\n",
      "    handler.handle_update(update, self, check, context)\n",
      "  File \"C:\\Python39\\lib\\site-packages\\telegram\\ext\\handler.py\", line 198, in handle_update\n",
      "    return self.callback(update, context)\n",
      "  File \"C:\\Users\\TIM~1.YAN\\AppData\\Local\\Temp/ipykernel_14796/1309436706.py\", line 3, in get_video\n",
      "    context.bot.send_video(chat_id=update.message.chat_id, video=open('watermark.mp4', 'rb'),\n",
      "  File \"C:\\Python39\\lib\\site-packages\\telegram\\bot.py\", line 130, in decorator\n",
      "    result = func(*args, **kwargs)\n",
      "  File \"C:\\Python39\\lib\\site-packages\\telegram\\bot.py\", line 1119, in send_video\n",
      "    return self._message(  # type: ignore[return-value]\n",
      "  File \"C:\\Python39\\lib\\site-packages\\telegram\\ext\\extbot.py\", line 199, in _message\n",
      "    result = super()._message(\n",
      "  File \"C:\\Python39\\lib\\site-packages\\telegram\\bot.py\", line 332, in _message\n",
      "    result = self._post(endpoint, data, timeout=timeout, api_kwargs=api_kwargs)\n",
      "  File \"C:\\Python39\\lib\\site-packages\\telegram\\bot.py\", line 295, in _post\n",
      "    return self.request.post(\n",
      "  File \"C:\\Python39\\lib\\site-packages\\telegram\\utils\\request.py\", line 354, in post\n",
      "    result = self._request_wrapper('POST', url, fields=data, **urlopen_kwargs)\n",
      "  File \"C:\\Python39\\lib\\site-packages\\telegram\\utils\\request.py\", line 265, in _request_wrapper\n",
      "    raise NetworkError(f'urllib3 HTTPError {error}') from error\n",
      "telegram.error.NetworkError: urllib3 HTTPError ('Connection aborted.', timeout('The write operation timed out'))\n"
     ]
    }
   ],
   "metadata": {}
  }
 ],
 "metadata": {
  "interpreter": {
   "hash": "63fd5069d213b44bf678585dea6b12cceca9941eaf7f819626cde1f2670de90d"
  },
  "kernelspec": {
   "name": "python3",
   "display_name": "Python 3.9.6 64-bit"
  },
  "language_info": {
   "codemirror_mode": {
    "name": "ipython",
    "version": 3
   },
   "file_extension": ".py",
   "mimetype": "text/x-python",
   "name": "python",
   "nbconvert_exporter": "python",
   "pygments_lexer": "ipython3",
   "version": "3.9.6"
  },
  "orig_nbformat": 4
 },
 "nbformat": 4,
 "nbformat_minor": 2
}