{
 "cells": [
  {
   "cell_type": "code",
   "execution_count": 1,
   "metadata": {},
   "outputs": [
    {
     "name": "stdout",
     "output_type": "stream",
     "text": [
      "{'id': 1875534501, 'is_bot': True, 'supports_inline_queries': False, 'can_join_groups': True, 'can_read_all_group_messages': True, 'username': 'pytabbot', 'first_name': 'Pybot'}\n"
     ]
    }
   ],
   "source": [
    "import telegram\r\n",
    "bot = telegram.Bot(token='1875534501:AAHbSSmQLSWGHIpIeUcb1brl1UTxjy_IM8M')\r\n",
    "print(bot.get_me())"
   ]
  },
  {
   "cell_type": "code",
   "execution_count": 30,
   "metadata": {},
   "outputs": [
    {
     "name": "stdout",
     "output_type": "stream",
     "text": [
      "{'message': {'message_id': 160, 'supergroup_chat_created': False, 'delete_chat_photo': False, 'chat': {'all_members_are_administrators': True, 'title': 'TAB', 'id': -467627368, 'type': 'group'}, 'photo': [], 'new_chat_members': [], 'date': 1626433411, 'caption': 'TEST', 'entities': [], 'caption_entities': [], 'channel_chat_created': False, 'new_chat_photo': [], 'group_chat_created': False, 'video': {'height': 1038, 'file_id': 'BAACAgUAAxkBAAOgYPFng8uTtrahDntEo5NksDb0_3AAAgQDAAJNi5FXxLuPckZ2jS8gBA', 'file_size': 209011864, 'thumb': {'height': 173, 'file_id': 'AAMCBQADGQEAA6Bg8WeDy5O2tqEOe0Sjk2SwNvT_cAACBAMAAk2LkVfEu49yRnaNLwEAB20AAyAE', 'file_size': 10885, 'file_unique_id': 'AQADBAMAAk2LkVdy', 'width': 320}, 'mime_type': 'video/mp4', 'file_unique_id': 'AgADBAMAAk2LkVc', 'file_name': '绅士福利电报搜@HTHUB.mp4', 'width': 1920, 'duration': 1257}, 'from': {'id': 160906643, 'is_bot': False, 'username': 'szcjoker', 'first_name': 'Club 3'}}, 'update_id': 89531259}\n"
     ]
    }
   ],
   "source": [
    "updates = bot.get_updates()\r\n",
    "print(updates[len(updates)-3])"
   ]
  },
  {
   "cell_type": "code",
   "execution_count": 32,
   "metadata": {},
   "outputs": [
    {
     "data": {
      "text/plain": [
       "<telegram.message.Message at 0x2c12c895040>"
      ]
     },
     "execution_count": 32,
     "metadata": {},
     "output_type": "execute_result"
    }
   ],
   "source": [
    "from telegram.ext import Updater, CommandHandler\r\n",
    "from telegram import InlineKeyboardMarkup, InlineKeyboardButton\r\n",
    "bot.send_video(chat_id=-467627368, video=\"BAACAgUAAxkBAAOgYPFng8uTtrahDntEo5NksDb0_3AAAgQDAAJNi5FXxLuPckZ2jS8gBA\", \r\n",
    "    supports_streaming=True,\r\n",
    "    timeout=1000,\r\n",
    "        reply_markup = InlineKeyboardMarkup([[\r\n",
    "            InlineKeyboardButton('github', url = 'https://github.com/'),\r\n",
    "            InlineKeyboardButton('youtube', url = 'https://www.youtube.com/')\r\n",
    "            ]]\r\n",
    "        ))"
   ]
  },
  {
   "cell_type": "code",
   "execution_count": null,
   "metadata": {},
   "outputs": [],
   "source": [
    "# bot.send_message(text='Hi Tim!', chat_id=1779144304)"
   ]
  },
  {
   "cell_type": "code",
   "execution_count": null,
   "metadata": {},
   "outputs": [],
   "source": [
    "from telegram.ext import Updater\r\n",
    "updater = Updater(token='1875534501:AAHbSSmQLSWGHIpIeUcb1brl1UTxjy_IM8M', use_context=True, request_kwargs={'read_timeout': 6000, 'connect_timeout': 7000})\r\n",
    "dispatcher = updater.dispatcher"
   ]
  },
  {
   "cell_type": "code",
   "execution_count": null,
   "metadata": {},
   "outputs": [],
   "source": [
    "import logging\r\n",
    "logging.basicConfig(format='%(asctime)s - %(name)s - %(levelname)s - %(message)s',\r\n",
    "                     level=logging.INFO)"
   ]
  },
  {
   "cell_type": "code",
   "execution_count": null,
   "metadata": {},
   "outputs": [],
   "source": [
    "from telegram.ext import Updater, CommandHandler\r\n",
    "from telegram import InlineKeyboardMarkup, InlineKeyboardButton\r\n",
    "\r\n",
    "def start(update, context):\r\n",
    "    context.bot.send_message(update.message.chat_id, text = \"Hi, I'm Pytab. What thing can I assist?\",\r\n",
    "        reply_markup = InlineKeyboardMarkup([[\r\n",
    "            InlineKeyboardButton('github', url = 'https://github.com/'),\r\n",
    "            InlineKeyboardButton('youtube', url = 'https://www.youtube.com/')\r\n",
    "            ]]\r\n",
    "        )\r\n",
    "    )"
   ]
  },
  {
   "cell_type": "code",
   "execution_count": null,
   "metadata": {},
   "outputs": [],
   "source": []
  },
  {
   "cell_type": "code",
   "execution_count": null,
   "metadata": {},
   "outputs": [],
   "source": [
    "from telegram.ext import CommandHandler\r\n",
    "start_handler = CommandHandler('start', start)\r\n",
    "dispatcher.add_handler(start_handler)"
   ]
  },
  {
   "cell_type": "code",
   "execution_count": null,
   "metadata": {},
   "outputs": [],
   "source": [
    "updater.start_polling()"
   ]
  },
  {
   "cell_type": "code",
   "execution_count": null,
   "metadata": {},
   "outputs": [],
   "source": [
    "# def echo(update, context):\r\n",
    "#     if(update.message.text):\r\n",
    "#         context.bot.send_message(chat_id=update.effective_chat.id, text=update.message.text)\r\n",
    "\r\n",
    "# from telegram.ext import MessageHandler, Filters\r\n",
    "# echo_handler = MessageHandler(Filters.text & (~Filters.command), echo)\r\n",
    "# dispatcher.add_handler(echo_handler)"
   ]
  },
  {
   "cell_type": "code",
   "execution_count": null,
   "metadata": {},
   "outputs": [],
   "source": [
    "def get_video(update, context):\r\n",
    "    context.bot.send_video(chat_id=update.message.chat_id, video=open('big_buck_bunny_720p_1mb.mp4', 'rb'), \r\n",
    "    supports_streaming=True,\r\n",
    "    timeout=1000,\r\n",
    "        reply_markup = InlineKeyboardMarkup([[\r\n",
    "            InlineKeyboardButton('github', url = 'https://github.com/'),\r\n",
    "            InlineKeyboardButton('youtube', url = 'https://www.youtube.com/')\r\n",
    "            ]]\r\n",
    "        ))\r\n",
    "\r\n",
    "get_video_handler = CommandHandler('get_video', get_video)\r\n",
    "dispatcher.add_handler(get_video_handler)"
   ]
  },
  {
   "cell_type": "code",
   "execution_count": null,
   "metadata": {},
   "outputs": [],
   "source": [
    "def caps(update, context):\r\n",
    "    text_caps = ' '.join(context.args).upper()\r\n",
    "    context.bot.send_message(chat_id=update.effective_chat.id, text=text_caps)\r\n",
    "\r\n",
    "caps_handler = CommandHandler('caps', caps)\r\n",
    "dispatcher.add_handler(caps_handler)"
   ]
  },
  {
   "cell_type": "code",
   "execution_count": null,
   "metadata": {},
   "outputs": [],
   "source": [
    "from telegram import InlineQueryResultArticle, InputTextMessageContent\r\n",
    "def inline_caps(update, context):\r\n",
    "    query = update.inline_query.query\r\n",
    "    if not query:\r\n",
    "        return\r\n",
    "    results = list()\r\n",
    "    results.append(\r\n",
    "        InlineQueryResultArticle(\r\n",
    "            id=query.upper(),\r\n",
    "            title='Caps',\r\n",
    "            input_message_content=InputTextMessageContent(query.upper())\r\n",
    "        )\r\n",
    "    )\r\n",
    "    context.bot.answer_inline_query(update.inline_query.id, results)\r\n",
    "\r\n",
    "from telegram.ext import InlineQueryHandler\r\n",
    "inline_caps_handler = InlineQueryHandler(inline_caps)\r\n",
    "dispatcher.add_handler(inline_caps_handler)"
   ]
  },
  {
   "cell_type": "code",
   "execution_count": null,
   "metadata": {},
   "outputs": [],
   "source": [
    "def unknown(update, context):\r\n",
    "    context.bot.send_message(chat_id=update.effective_chat.id, text=\"Sorry, I didn't understand that command.\")\r\n",
    "\r\n",
    "from telegram.ext import MessageHandler, Filters\r\n",
    "unknown_handler = MessageHandler(Filters.command, unknown)\r\n",
    "dispatcher.add_handler(unknown_handler) "
   ]
  },
  {
   "cell_type": "code",
   "execution_count": null,
   "metadata": {},
   "outputs": [],
   "source": [
    "# updater.stop()"
   ]
  }
 ],
 "metadata": {
  "interpreter": {
   "hash": "63fd5069d213b44bf678585dea6b12cceca9941eaf7f819626cde1f2670de90d"
  },
  "kernelspec": {
   "display_name": "Python 3.9.6 64-bit",
   "name": "python3"
  },
  "language_info": {
   "codemirror_mode": {
    "name": "ipython",
    "version": 3
   },
   "file_extension": ".py",
   "mimetype": "text/x-python",
   "name": "python",
   "nbconvert_exporter": "python",
   "pygments_lexer": "ipython3",
   "version": "3.9.6"
  },
  "orig_nbformat": 4
 },
 "nbformat": 4,
 "nbformat_minor": 2
}