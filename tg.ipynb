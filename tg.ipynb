{
 "cells": [
  {
   "cell_type": "code",
   "execution_count": 1,
   "metadata": {},
   "outputs": [
    {
     "name": "stdout",
     "output_type": "stream",
     "text": [
      "{'username': 'pytabbot', 'is_bot': True, 'supports_inline_queries': False, 'can_read_all_group_messages': False, 'id': 1875534501, 'first_name': 'Pybot', 'can_join_groups': True}\n"
     ]
    }
   ],
   "source": [
    "import telegram\r\n",
    "bot = telegram.Bot(token='1875534501:AAHbSSmQLSWGHIpIeUcb1brl1UTxjy_IM8M')\r\n",
    "print(bot.get_me())"
   ]
  },
  {
   "cell_type": "code",
   "execution_count": 2,
   "metadata": {},
   "outputs": [],
   "source": [
    "updates = bot.get_updates()\r\n",
    "# print(updates[0])"
   ]
  },
  {
   "cell_type": "code",
   "execution_count": 3,
   "metadata": {},
   "outputs": [],
   "source": [
    "# bot.send_message(text='Hi Tim!', chat_id=1779144304)"
   ]
  },
  {
   "cell_type": "code",
   "execution_count": 12,
   "metadata": {},
   "outputs": [],
   "source": [
    "from telegram.ext import Updater\r\n",
    "updater = Updater(token='1875534501:AAHbSSmQLSWGHIpIeUcb1brl1UTxjy_IM8M', use_context=True, request_kwargs={'read_timeout': 6000, 'connect_timeout': 7000})\r\n",
    "dispatcher = updater.dispatcher"
   ]
  },
  {
   "cell_type": "code",
   "execution_count": 5,
   "metadata": {},
   "outputs": [],
   "source": [
    "import logging\r\n",
    "logging.basicConfig(format='%(asctime)s - %(name)s - %(levelname)s - %(message)s',\r\n",
    "                     level=logging.INFO)"
   ]
  },
  {
   "cell_type": "code",
   "execution_count": 6,
   "metadata": {},
   "outputs": [],
   "source": [
    "def start(update, context):\r\n",
    "    context.bot.send_message(1779144304, text = \"Hi, I'm Pytab. What thing can I assist?\",\r\n",
    "        reply_markup = InlineKeyboardMarkup([[\r\n",
    "            InlineKeyboardButton('github', url = 'https://github.com/'),\r\n",
    "            InlineKeyboardButton('youtube', url = 'https://www.youtube.com/')]]))"
   ]
  },
  {
   "cell_type": "code",
   "execution_count": null,
   "metadata": {},
   "outputs": [],
   "source": []
  },
  {
   "cell_type": "code",
   "execution_count": 7,
   "metadata": {},
   "outputs": [],
   "source": [
    "from telegram.ext import CommandHandler\r\n",
    "start_handler = CommandHandler('start', start)\r\n",
    "dispatcher.add_handler(start_handler)"
   ]
  },
  {
   "cell_type": "code",
   "execution_count": 8,
   "metadata": {},
   "outputs": [
    {
     "name": "stderr",
     "output_type": "stream",
     "text": [
      "2021-07-15 19:00:24,263 - apscheduler.scheduler - INFO - Scheduler started\n"
     ]
    },
    {
     "data": {
      "text/plain": [
       "<queue.Queue at 0x28b03017190>"
      ]
     },
     "execution_count": 8,
     "metadata": {},
     "output_type": "execute_result"
    }
   ],
   "source": [
    "updater.start_polling()"
   ]
  },
  {
   "cell_type": "code",
   "execution_count": 9,
   "metadata": {},
   "outputs": [],
   "source": [
    "def echo(update, context):\r\n",
    "    if(update.message.text):\r\n",
    "        context.bot.send_message(chat_id=update.effective_chat.id, text=update.message.text)\r\n",
    "\r\n",
    "from telegram.ext import MessageHandler, Filters\r\n",
    "echo_handler = MessageHandler(Filters.text & (~Filters.command), echo)\r\n",
    "dispatcher.add_handler(echo_handler)"
   ]
  },
  {
   "cell_type": "code",
   "execution_count": 10,
   "metadata": {},
   "outputs": [],
   "source": [
    "def get_video(update, context):\r\n",
    "    context.bot.send_video(chat_id=update.message.chat_id, video=open('big_buck_bunny_720p_1mb.mp4', 'rb'), supports_streaming=True, timeout=1000)"
   ]
  },
  {
   "cell_type": "code",
   "execution_count": 15,
   "metadata": {},
   "outputs": [
    {
     "ename": "NameError",
     "evalue": "name 'nlp' is not defined",
     "output_type": "error",
     "traceback": [
      "\u001b[1;31m---------------------------------------------------------------------------\u001b[0m",
      "\u001b[1;31mNameError\u001b[0m                                 Traceback (most recent call last)",
      "\u001b[1;32mC:\\Users\\TIM~1.YAN\\AppData\\Local\\Temp/ipykernel_4932/2444999454.py\u001b[0m in \u001b[0;36m<module>\u001b[1;34m\u001b[0m\n\u001b[1;32m----> 1\u001b[1;33m \u001b[0mnlp\u001b[0m\u001b[1;33m.\u001b[0m\u001b[0mclose\u001b[0m\u001b[1;33m(\u001b[0m\u001b[1;33m)\u001b[0m\u001b[1;33m\u001b[0m\u001b[1;33m\u001b[0m\u001b[0m\n\u001b[0m\u001b[0;32m      2\u001b[0m \u001b[0mbot\u001b[0m\u001b[1;33m.\u001b[0m\u001b[0msend_video\u001b[0m\u001b[1;33m(\u001b[0m\u001b[0mchat_id\u001b[0m\u001b[1;33m=\u001b[0m\u001b[1;33m-\u001b[0m\u001b[1;36m467627368\u001b[0m\u001b[1;33m,\u001b[0m \u001b[0mvideo\u001b[0m\u001b[1;33m=\u001b[0m\u001b[0mopen\u001b[0m\u001b[1;33m(\u001b[0m\u001b[1;34m'【python】4小時初學者教學 #python #python教學 #python入門-zdMUJJKFdsU.mp4'\u001b[0m\u001b[1;33m,\u001b[0m \u001b[1;34m'rb'\u001b[0m\u001b[1;33m)\u001b[0m\u001b[1;33m,\u001b[0m \u001b[0msupports_streaming\u001b[0m\u001b[1;33m=\u001b[0m\u001b[1;32mTrue\u001b[0m\u001b[1;33m,\u001b[0m \u001b[0mtimeout\u001b[0m\u001b[1;33m=\u001b[0m\u001b[1;36m10000\u001b[0m\u001b[1;33m)\u001b[0m\u001b[1;33m\u001b[0m\u001b[1;33m\u001b[0m\u001b[0m\n",
      "\u001b[1;31mNameError\u001b[0m: name 'nlp' is not defined"
     ]
    }
   ],
   "source": [
    "bot.send_video(chat_id=-467627368, video=open('【python】4小時初學者教學 #python #python教學 #python入門-zdMUJJKFdsU.mp4', 'rb'), supports_streaming=True, timeout=10000)"
   ]
  },
  {
   "cell_type": "code",
   "execution_count": null,
   "metadata": {},
   "outputs": [],
   "source": [
    "get_video_handler = CommandHandler('get_video', get_video)\r\n",
    "dispatcher.add_handler(get_video_handler)"
   ]
  },
  {
   "cell_type": "code",
   "execution_count": null,
   "metadata": {},
   "outputs": [],
   "source": [
    "def caps(update, context):\r\n",
    "    text_caps = ' '.join(context.args).upper()\r\n",
    "    context.bot.send_message(chat_id=update.effective_chat.id, text=text_caps)\r\n",
    "\r\n",
    "caps_handler = CommandHandler('caps', caps)\r\n",
    "dispatcher.add_handler(caps_handler)"
   ]
  },
  {
   "cell_type": "code",
   "execution_count": null,
   "metadata": {},
   "outputs": [],
   "source": [
    "# updater.stop()"
   ]
  }
 ],
 "metadata": {
  "interpreter": {
   "hash": "63fd5069d213b44bf678585dea6b12cceca9941eaf7f819626cde1f2670de90d"
  },
  "kernelspec": {
   "display_name": "Python 3.9.6 64-bit",
   "name": "python3"
  },
  "language_info": {
   "codemirror_mode": {
    "name": "ipython",
    "version": 3
   },
   "file_extension": ".py",
   "mimetype": "text/x-python",
   "name": "python",
   "nbconvert_exporter": "python",
   "pygments_lexer": "ipython3",
   "version": "3.9.6"
  },
  "orig_nbformat": 4
 },
 "nbformat": 4,
 "nbformat_minor": 2
}