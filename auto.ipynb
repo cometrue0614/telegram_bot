{
 "cells": [
  {
   "cell_type": "code",
   "execution_count": 2,
   "source": [
    "import telegram\r\n",
    "from telegram.ext import Updater\r\n",
    "TOKEN = '1875534501:AAHbSSmQLSWGHIpIeUcb1brl1UTxjy_IM8M'\r\n",
    "bot = telegram.Bot(token=TOKEN)"
   ],
   "outputs": [],
   "metadata": {}
  },
  {
   "cell_type": "code",
   "execution_count": 3,
   "source": [
    "from telegram.ext import Updater\r\n",
    "updater = Updater(token=TOKEN, use_context=True, request_kwargs={'read_timeout': 6000, 'connect_timeout': 7000})\r\n",
    "dispatcher = updater.dispatcher"
   ],
   "outputs": [],
   "metadata": {}
  },
  {
   "cell_type": "code",
   "execution_count": 4,
   "source": [
    "from telegram.ext import Updater, CommandHandler\r\n",
    "from telegram.ext import MessageHandler, Filters\r\n",
    "from telegram import InlineKeyboardMarkup, InlineKeyboardButton\r\n",
    "# import numpy as np\r\n",
    "\r\n",
    "chatID_list = [1779144304, -1001361884533]\r\n",
    "\r\n",
    "def echo(update, context):\r\n",
    "    if(update.message.video):\r\n",
    "        for i in range(len(chatID_list)):\r\n",
    "            context.bot.send_video(chat_id = chatID_list[i], video = update.message.video.file_id,\r\n",
    "                                filename = update.message.video.file_name,\r\n",
    "                                supports_streaming = True,\r\n",
    "                                # caption = \r\n",
    "                                # \"🙈 <a href=''>Link1</a>\\n\"\r\n",
    "                                # \"🙉 <a href=''>Link2</a>\\n\"\r\n",
    "                                # \"🙊 <a href=''>Link3</a>\\n\",\r\n",
    "                                # parse_mode = 'HTML',\r\n",
    "                                reply_markup = InlineKeyboardMarkup([[\r\n",
    "                                    InlineKeyboardButton(\r\n",
    "                                        text = '👍🏻', callback_data = \"0\"),\r\n",
    "                                    InlineKeyboardButton(\r\n",
    "                                        text = '還想看', callback_data = \"1\"),\r\n",
    "                                    InlineKeyboardButton(\r\n",
    "                                        text = '👎🏻', callback_data = \"2\")\r\n",
    "                                ],\r\n",
    "                                    [\r\n",
    "                                    InlineKeyboardButton(\r\n",
    "                                        text = '❤️', url = 'https://youtube.com/')\r\n",
    "                                ],\r\n",
    "                                    [\r\n",
    "                                    InlineKeyboardButton(\r\n",
    "                                        text = '😍', url = 'https://youtube.com/')\r\n",
    "                                ],\r\n",
    "                                    [\r\n",
    "                                    InlineKeyboardButton(\r\n",
    "                                        text = '💋', url = 'https://youtube.com/')\r\n",
    "                                ]]\r\n",
    "                                ))\r\n",
    "    if(update.message.text):\r\n",
    "        context.bot.send_message(chat_id = update.effective_chat.id, text = update.message.text)\r\n",
    "\r\n",
    "echo_handler = MessageHandler(Filters.video & (~Filters.command), echo)\r\n",
    "dispatcher.add_handler(echo_handler)\r\n"
   ],
   "outputs": [],
   "metadata": {}
  },
  {
   "cell_type": "code",
   "execution_count": 6,
   "source": [
    "updater.start_polling()\r\n",
    "updater.idle()\r\n",
    "# updater.stop()"
   ],
   "outputs": [],
   "metadata": {}
  }
 ],
 "metadata": {
  "orig_nbformat": 4,
  "language_info": {
   "name": "python",
   "version": "3.9.6",
   "mimetype": "text/x-python",
   "codemirror_mode": {
    "name": "ipython",
    "version": 3
   },
   "pygments_lexer": "ipython3",
   "nbconvert_exporter": "python",
   "file_extension": ".py"
  },
  "kernelspec": {
   "name": "python3",
   "display_name": "Python 3.9.6 64-bit"
  },
  "interpreter": {
   "hash": "63fd5069d213b44bf678585dea6b12cceca9941eaf7f819626cde1f2670de90d"
  }
 },
 "nbformat": 4,
 "nbformat_minor": 2
}